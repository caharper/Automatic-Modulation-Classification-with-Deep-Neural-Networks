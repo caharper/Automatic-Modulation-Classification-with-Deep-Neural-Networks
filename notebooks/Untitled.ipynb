{
 "cells": [
  {
   "cell_type": "code",
   "execution_count": 1,
   "id": "infectious-graphic",
   "metadata": {},
   "outputs": [],
   "source": [
    "import numpy as np\n",
    "import pandas as pd"
   ]
  },
  {
   "cell_type": "code",
   "execution_count": 2,
   "id": "statistical-strategy",
   "metadata": {},
   "outputs": [],
   "source": [
    "train_idx_path = '/Users/clayharper/Desktop/Research/Modulation/dataset/train_test_indexes/one_mill_strat/train.npy'\n",
    "test_idx_path = '/Users/clayharper/Desktop/Research/Modulation/dataset/train_test_indexes/one_mill_strat/test.npy'\n"
   ]
  },
  {
   "cell_type": "code",
   "execution_count": 3,
   "id": "accomplished-camping",
   "metadata": {},
   "outputs": [],
   "source": [
    "train_idxs = np.load(train_idx_path, allow_pickle=True)\n",
    "test_idxs = np.load(test_idx_path, allow_pickle=True)"
   ]
  },
  {
   "cell_type": "code",
   "execution_count": 11,
   "id": "missing-duncan",
   "metadata": {},
   "outputs": [
    {
     "data": {
      "text/html": [
       "<div>\n",
       "<style scoped>\n",
       "    .dataframe tbody tr th:only-of-type {\n",
       "        vertical-align: middle;\n",
       "    }\n",
       "\n",
       "    .dataframe tbody tr th {\n",
       "        vertical-align: top;\n",
       "    }\n",
       "\n",
       "    .dataframe thead th {\n",
       "        text-align: right;\n",
       "    }\n",
       "</style>\n",
       "<table border=\"1\" class=\"dataframe\">\n",
       "  <thead>\n",
       "    <tr style=\"text-align: right;\">\n",
       "      <th></th>\n",
       "      <th>0</th>\n",
       "    </tr>\n",
       "  </thead>\n",
       "  <tbody>\n",
       "    <tr>\n",
       "      <th>15048</th>\n",
       "      <td>0</td>\n",
       "    </tr>\n",
       "    <tr>\n",
       "      <th>18510</th>\n",
       "      <td>2</td>\n",
       "    </tr>\n",
       "    <tr>\n",
       "      <th>34961</th>\n",
       "      <td>4</td>\n",
       "    </tr>\n",
       "    <tr>\n",
       "      <th>29623</th>\n",
       "      <td>7</td>\n",
       "    </tr>\n",
       "    <tr>\n",
       "      <th>13478</th>\n",
       "      <td>9</td>\n",
       "    </tr>\n",
       "    <tr>\n",
       "      <th>...</th>\n",
       "      <td>...</td>\n",
       "    </tr>\n",
       "    <tr>\n",
       "      <th>998067</th>\n",
       "      <td>2555896</td>\n",
       "    </tr>\n",
       "    <tr>\n",
       "      <th>968466</th>\n",
       "      <td>2555897</td>\n",
       "    </tr>\n",
       "    <tr>\n",
       "      <th>996889</th>\n",
       "      <td>2555901</td>\n",
       "    </tr>\n",
       "    <tr>\n",
       "      <th>981657</th>\n",
       "      <td>2555902</td>\n",
       "    </tr>\n",
       "    <tr>\n",
       "      <th>965922</th>\n",
       "      <td>2555903</td>\n",
       "    </tr>\n",
       "  </tbody>\n",
       "</table>\n",
       "<p>999984 rows × 1 columns</p>\n",
       "</div>"
      ],
      "text/plain": [
       "              0\n",
       "15048         0\n",
       "18510         2\n",
       "34961         4\n",
       "29623         7\n",
       "13478         9\n",
       "...         ...\n",
       "998067  2555896\n",
       "968466  2555897\n",
       "996889  2555901\n",
       "981657  2555902\n",
       "965922  2555903\n",
       "\n",
       "[999984 rows x 1 columns]"
      ]
     },
     "execution_count": 11,
     "metadata": {},
     "output_type": "execute_result"
    }
   ],
   "source": [
    "train_df = pd.DataFrame(train_idxs)\n",
    "col = train_df.columns[0]\n",
    "train_df = train_df.sort_values(by=col)\n",
    "train_df"
   ]
  },
  {
   "cell_type": "code",
   "execution_count": 19,
   "id": "written-ghost",
   "metadata": {},
   "outputs": [],
   "source": [
    "train_df.to_csv('/Users/clayharper/Desktop/Research/amc_with_deep_neural_networks/dataset/train_indexes.csv', index=False, header=False)"
   ]
  },
  {
   "cell_type": "code",
   "execution_count": 13,
   "id": "empty-horror",
   "metadata": {},
   "outputs": [
    {
     "data": {
      "text/html": [
       "<div>\n",
       "<style scoped>\n",
       "    .dataframe tbody tr th:only-of-type {\n",
       "        vertical-align: middle;\n",
       "    }\n",
       "\n",
       "    .dataframe tbody tr th {\n",
       "        vertical-align: top;\n",
       "    }\n",
       "\n",
       "    .dataframe thead th {\n",
       "        text-align: right;\n",
       "    }\n",
       "</style>\n",
       "<table border=\"1\" class=\"dataframe\">\n",
       "  <thead>\n",
       "    <tr style=\"text-align: right;\">\n",
       "      <th></th>\n",
       "      <th>0</th>\n",
       "    </tr>\n",
       "  </thead>\n",
       "  <tbody>\n",
       "    <tr>\n",
       "      <th>35454</th>\n",
       "      <td>1</td>\n",
       "    </tr>\n",
       "    <tr>\n",
       "      <th>5439</th>\n",
       "      <td>3</td>\n",
       "    </tr>\n",
       "    <tr>\n",
       "      <th>5638</th>\n",
       "      <td>5</td>\n",
       "    </tr>\n",
       "    <tr>\n",
       "      <th>11390</th>\n",
       "      <td>6</td>\n",
       "    </tr>\n",
       "    <tr>\n",
       "      <th>51274</th>\n",
       "      <td>8</td>\n",
       "    </tr>\n",
       "    <tr>\n",
       "      <th>...</th>\n",
       "      <td>...</td>\n",
       "    </tr>\n",
       "    <tr>\n",
       "      <th>1496353</th>\n",
       "      <td>2555888</td>\n",
       "    </tr>\n",
       "    <tr>\n",
       "      <th>1546442</th>\n",
       "      <td>2555892</td>\n",
       "    </tr>\n",
       "    <tr>\n",
       "      <th>1536829</th>\n",
       "      <td>2555898</td>\n",
       "    </tr>\n",
       "    <tr>\n",
       "      <th>1496380</th>\n",
       "      <td>2555899</td>\n",
       "    </tr>\n",
       "    <tr>\n",
       "      <th>1523444</th>\n",
       "      <td>2555900</td>\n",
       "    </tr>\n",
       "  </tbody>\n",
       "</table>\n",
       "<p>1555920 rows × 1 columns</p>\n",
       "</div>"
      ],
      "text/plain": [
       "               0\n",
       "35454          1\n",
       "5439           3\n",
       "5638           5\n",
       "11390          6\n",
       "51274          8\n",
       "...          ...\n",
       "1496353  2555888\n",
       "1546442  2555892\n",
       "1536829  2555898\n",
       "1496380  2555899\n",
       "1523444  2555900\n",
       "\n",
       "[1555920 rows x 1 columns]"
      ]
     },
     "execution_count": 13,
     "metadata": {},
     "output_type": "execute_result"
    }
   ],
   "source": [
    "test_df = pd.DataFrame(test_idxs)\n",
    "col = test_df.columns[0]\n",
    "test_df = test_df.sort_values(by=col)\n",
    "test_df"
   ]
  },
  {
   "cell_type": "code",
   "execution_count": 20,
   "id": "olympic-biotechnology",
   "metadata": {},
   "outputs": [],
   "source": [
    "test_df.to_csv('/Users/clayharper/Desktop/Research/amc_with_deep_neural_networks/dataset/test_indexes.csv', index=False, header=False)"
   ]
  },
  {
   "cell_type": "code",
   "execution_count": 24,
   "id": "fundamental-bikini",
   "metadata": {},
   "outputs": [
    {
     "data": {
      "text/html": [
       "<div>\n",
       "<style scoped>\n",
       "    .dataframe tbody tr th:only-of-type {\n",
       "        vertical-align: middle;\n",
       "    }\n",
       "\n",
       "    .dataframe tbody tr th {\n",
       "        vertical-align: top;\n",
       "    }\n",
       "\n",
       "    .dataframe thead th {\n",
       "        text-align: right;\n",
       "    }\n",
       "</style>\n",
       "<table border=\"1\" class=\"dataframe\">\n",
       "  <thead>\n",
       "    <tr style=\"text-align: right;\">\n",
       "      <th></th>\n",
       "      <th>0</th>\n",
       "    </tr>\n",
       "  </thead>\n",
       "  <tbody>\n",
       "    <tr>\n",
       "      <th>0</th>\n",
       "      <td>0</td>\n",
       "    </tr>\n",
       "    <tr>\n",
       "      <th>1</th>\n",
       "      <td>2</td>\n",
       "    </tr>\n",
       "    <tr>\n",
       "      <th>2</th>\n",
       "      <td>4</td>\n",
       "    </tr>\n",
       "    <tr>\n",
       "      <th>3</th>\n",
       "      <td>7</td>\n",
       "    </tr>\n",
       "    <tr>\n",
       "      <th>4</th>\n",
       "      <td>9</td>\n",
       "    </tr>\n",
       "    <tr>\n",
       "      <th>...</th>\n",
       "      <td>...</td>\n",
       "    </tr>\n",
       "    <tr>\n",
       "      <th>999979</th>\n",
       "      <td>2555896</td>\n",
       "    </tr>\n",
       "    <tr>\n",
       "      <th>999980</th>\n",
       "      <td>2555897</td>\n",
       "    </tr>\n",
       "    <tr>\n",
       "      <th>999981</th>\n",
       "      <td>2555901</td>\n",
       "    </tr>\n",
       "    <tr>\n",
       "      <th>999982</th>\n",
       "      <td>2555902</td>\n",
       "    </tr>\n",
       "    <tr>\n",
       "      <th>999983</th>\n",
       "      <td>2555903</td>\n",
       "    </tr>\n",
       "  </tbody>\n",
       "</table>\n",
       "<p>999984 rows × 1 columns</p>\n",
       "</div>"
      ],
      "text/plain": [
       "              0\n",
       "0             0\n",
       "1             2\n",
       "2             4\n",
       "3             7\n",
       "4             9\n",
       "...         ...\n",
       "999979  2555896\n",
       "999980  2555897\n",
       "999981  2555901\n",
       "999982  2555902\n",
       "999983  2555903\n",
       "\n",
       "[999984 rows x 1 columns]"
      ]
     },
     "execution_count": 24,
     "metadata": {},
     "output_type": "execute_result"
    }
   ],
   "source": [
    "train_idxs = pd.read_csv('/Users/clayharper/Desktop/Research/amc_with_deep_neural_networks/dataset/train_indexes.csv', header=None)\n",
    "train_idxs\n",
    "\n"
   ]
  },
  {
   "cell_type": "code",
   "execution_count": 32,
   "id": "funny-forum",
   "metadata": {},
   "outputs": [],
   "source": [
    "train_idxs = np.genfromtxt('/Users/clayharper/Desktop/Research/amc_with_deep_neural_networks/dataset/train_indexes.csv', delimiter=',', dtype=np.int)\n",
    "\n"
   ]
  },
  {
   "cell_type": "code",
   "execution_count": 33,
   "id": "lovely-penguin",
   "metadata": {},
   "outputs": [
    {
     "data": {
      "text/plain": [
       "(999984,)"
      ]
     },
     "execution_count": 33,
     "metadata": {},
     "output_type": "execute_result"
    }
   ],
   "source": [
    "train_idxs.shape"
   ]
  },
  {
   "cell_type": "code",
   "execution_count": 35,
   "id": "noble-literature",
   "metadata": {},
   "outputs": [
    {
     "data": {
      "text/plain": [
       "dtype('int64')"
      ]
     },
     "execution_count": 35,
     "metadata": {},
     "output_type": "execute_result"
    }
   ],
   "source": [
    "train_idxs.dtype"
   ]
  },
  {
   "cell_type": "code",
   "execution_count": 36,
   "id": "royal-expert",
   "metadata": {},
   "outputs": [],
   "source": [
    "import random\n",
    "random.shuffle(train_idxs)"
   ]
  },
  {
   "cell_type": "code",
   "execution_count": 37,
   "id": "virgin-andrew",
   "metadata": {},
   "outputs": [
    {
     "data": {
      "text/plain": [
       "array([1737371, 2317830,  804192, ..., 1313731, 1171526, 1018477])"
      ]
     },
     "execution_count": 37,
     "metadata": {},
     "output_type": "execute_result"
    }
   ],
   "source": [
    "train_idxs"
   ]
  },
  {
   "cell_type": "code",
   "execution_count": null,
   "id": "arabic-candidate",
   "metadata": {},
   "outputs": [],
   "source": []
  }
 ],
 "metadata": {
  "kernelspec": {
   "display_name": "Python 3",
   "language": "python",
   "name": "python3"
  },
  "language_info": {
   "codemirror_mode": {
    "name": "ipython",
    "version": 3
   },
   "file_extension": ".py",
   "mimetype": "text/x-python",
   "name": "python",
   "nbconvert_exporter": "python",
   "pygments_lexer": "ipython3",
   "version": "3.8.8"
  }
 },
 "nbformat": 4,
 "nbformat_minor": 5
}
